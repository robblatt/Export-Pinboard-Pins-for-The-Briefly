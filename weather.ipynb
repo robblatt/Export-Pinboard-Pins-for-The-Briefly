{
 "cells": [
  {
   "cell_type": "code",
   "execution_count": 142,
   "metadata": {},
   "outputs": [
    {
     "data": {
      "text/plain": [
       "'<p style=\"text-align: center;\">Today -&nbsp;Low: 33˚ High: 56˚<br />Light rain starting in the afternoon.</p>'"
      ]
     },
     "execution_count": 142,
     "metadata": {},
     "output_type": "execute_result"
    }
   ],
   "source": [
    "import requests\n",
    "import datetime\n",
    "\n",
    "API_KEY = 'API_KEY'\n",
    "\n",
    "resp = requests.get('https://api.darksky.net/forecast/' + API_KEY + '/' + lat + ',' + long)\n",
    "\n",
    "lat, long = '40.683', '-73.9708'\n",
    "\n",
    "low = str(round(resp.json()['daily']['data'][0]['temperatureLow']))\n",
    "high = str(round(resp.json()['daily']['data'][0]['temperatureHigh']))\n",
    "\n",
    "if datetime.datetime.fromtimestamp(resp.json()['daily']['data'][0]['time']).strftime(\"%A\") == 'Friday':\n",
    "    w_low = str(round(min(resp.json()['daily']['data'][1]['temperatureLow'], resp.json()['daily']['data'][2]['temperatureLow'])))\n",
    "    w_high = str(round(min(resp.json()['daily']['data'][1]['temperatureHigh'], resp.json()['daily']['data'][2]['temperatureHigh'])))\n",
    "    condition = str(resp.json()['daily']['data'][0]['summary'])\n",
    "        \n",
    "    weather = '<p style=\"text-align: center;\">Today -&nbsp;Low: ' + low +  '˚ High: ' + high + '˚<br />' + condition + '<br/>This weekend -&nbsp;Low: ' + w_low +  '˚ High: ' + w_high + '˚</p>'\n",
    "    \n",
    "else:\n",
    "    weather = '<p style=\"text-align: center;\">Today -&nbsp;Low: ' + low +  '˚ High: ' + high + '˚<br />' + condition + '</p>'\n",
    "\n",
    "weather"
   ]
  }
 ],
 "metadata": {
  "kernelspec": {
   "display_name": "Python 3",
   "language": "python",
   "name": "python3"
  },
  "language_info": {
   "codemirror_mode": {
    "name": "ipython",
    "version": 3
   },
   "file_extension": ".py",
   "mimetype": "text/x-python",
   "name": "python",
   "nbconvert_exporter": "python",
   "pygments_lexer": "ipython3",
   "version": "3.7.3"
  }
 },
 "nbformat": 4,
 "nbformat_minor": 2
}
