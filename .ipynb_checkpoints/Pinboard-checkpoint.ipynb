{
 "cells": [
  {
   "cell_type": "code",
   "execution_count": 135,
   "metadata": {},
   "outputs": [],
   "source": [
    "import pinboard\n",
    "import datetime\n",
    "import feedparser"
   ]
  },
  {
   "cell_type": "code",
   "execution_count": 156,
   "metadata": {},
   "outputs": [],
   "source": [
    "pb = pinboard.Pinboard('USERNAME:API_KEY')\n",
    "\n",
    "# I publish The Briefly every morning at different times.\n",
    "# This looks at the RSS feed and grabs the time of the\n",
    "# most recently published article on thebriefly.com and\n",
    "# stores the time as pubb.\n",
    "\n",
    "rss = feedparser.parse('http://thebriefly.com/feed/')\n",
    "date_time_str = rss['entries'][0]['published'][:-6]\n",
    "pubb = datetime.datetime.strptime(date_time_str, '%a, %d %b %Y %H:%M:%S')\n",
    "\n",
    "# Retrieves the 50 most recent pins from my Pinboard account with the\n",
    "# tag 'nyc' applied and reverses them to reverse chronological order.\n",
    "\n",
    "listy = pb.posts.recent(count=50, tag='nyc')['posts']\n",
    "listy.reverse()\n",
    "\n",
    "# Adds the note from the pins (that's what .extend is) and the url to a list \n",
    "\n",
    "briefly = []\n",
    "for i in range(len(listy)):\n",
    "    if listy[i].time > pubb:\n",
    "        briefly.append(listy[i].extended + '\\n' + listy[i].url)\n",
    "        \n",
    "# creates a file\n",
    "\n",
    "open('the briefly.txt', 'w').close()\n",
    "\n",
    "# writes to the text file and replaces the two usages of '•'\n",
    "# to open and close a link.\n",
    "\n",
    "with open('the briefly.txt', 'w') as f:\n",
    "    for item in briefly:\n",
    "        f.write(item.split('\\n')[0].replace('•', '<a href=\"' + item.split('\\n')[1] + '\">', 1).replace('•', '</a>', 1) + '\\n\\n')"
   ]
  },
  {
   "cell_type": "code",
   "execution_count": 157,
   "metadata": {},
   "outputs": [
    {
     "data": {
      "text/plain": [
       "[]"
      ]
     },
     "execution_count": 157,
     "metadata": {},
     "output_type": "execute_result"
    }
   ],
   "source": [
    "briefly"
   ]
  },
  {
   "cell_type": "markdown",
   "metadata": {},
   "source": []
  }
 ],
 "metadata": {
  "kernelspec": {
   "display_name": "Python 3",
   "language": "python",
   "name": "python3"
  },
  "language_info": {
   "codemirror_mode": {
    "name": "ipython",
    "version": 3
   },
   "file_extension": ".py",
   "mimetype": "text/x-python",
   "name": "python",
   "nbconvert_exporter": "python",
   "pygments_lexer": "ipython3",
   "version": "3.7.3"
  }
 },
 "nbformat": 4,
 "nbformat_minor": 2
}
