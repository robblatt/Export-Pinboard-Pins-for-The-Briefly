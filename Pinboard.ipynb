{
 "cells": [
  {
   "cell_type": "code",
   "execution_count": 1,
   "metadata": {},
   "outputs": [],
   "source": [
    "import pinboard\n",
    "import datetime\n",
    "import feedparser\n",
    "import requests\n",
    "import datetime"
   ]
  },
  {
   "cell_type": "code",
   "execution_count": 22,
   "metadata": {},
   "outputs": [],
   "source": [
    "API_KEY = 'API_KEY'\n",
    "\n",
    "resp = requests.get('https://api.darksky.net/forecast/' + API_KEY + '/' + lat + ',' + long)\n",
    "\n",
    "lat, long = '40.683', '-73.9708'\n",
    "\n",
    "low = str(round(resp.json()['daily']['data'][0]['temperatureLow']))\n",
    "high = str(round(resp.json()['daily']['data'][0]['temperatureHigh']))\n",
    "\n",
    "if datetime.datetime.fromtimestamp(resp.json()['daily']['data'][0]['time']).strftime(\"%A\") == 'Friday':\n",
    "    w_low = str(round(min(resp.json()['daily']['data'][1]['temperatureLow'], resp.json()['daily']['data'][2]['temperatureLow'])))\n",
    "    w_high = str(round(min(resp.json()['daily']['data'][1]['temperatureHigh'], resp.json()['daily']['data'][2]['temperatureHigh'])))\n",
    "    condition = str(resp.json()['daily']['data'][0]['summary'])\n",
    "        \n",
    "    weather = '<p style=\"text-align: center;\">Today -&nbsp;Low: ' + low +  '˚ High: ' + high + '˚<br />' + condition + '<br/>This weekend -&nbsp;Low: ' + w_low +  '˚ High: ' + w_high + '˚</p>'\n",
    "    \n",
    "else:\n",
    "    weather = '<p style=\"text-align: center;\">Today -&nbsp;Low: ' + low +  '˚ High: ' + high + '˚<br />' + condition + '</p>'\n",
    "\n",
    "\n",
    "pb = pinboard.Pinboard('USER_NAME:API_KEY')\n",
    "\n",
    "# I publish The Briefly every morning at different times.\n",
    "# This looks at the RSS feed and grabs the time of the\n",
    "# most recently published article on thebriefly.com and\n",
    "# stores the time as pubb.\n",
    "\n",
    "rss = feedparser.parse('http://thebriefly.com/feed/')\n",
    "date_time_str = rss['entries'][0]['published'][:-6]\n",
    "pubb = datetime.datetime.strptime(date_time_str, '%a, %d %b %Y %H:%M:%S')\n",
    "\n",
    "# Retrieves the 50 most recent pins from my Pinboard account with the\n",
    "# tag 'nyc' applied and reverses them to reverse chronological order.\n",
    "\n",
    "listy = pb.posts.recent(count=50, tag='nyc')['posts']\n",
    "listy.reverse()\n",
    "\n",
    "# Adds the note from the pins (that's what .extend is) and the url to a list \n",
    "\n",
    "briefly = []\n",
    "for i in range(len(listy)):\n",
    "    if '?emc=rss&partner=rss' in listy[i].url:\n",
    "        listy[i].url = listy[i].url.replace('?emc=rss&partner=rss', '')\n",
    "    if listy[i].time > pubb:\n",
    "        briefly.append(listy[i].extended + '\\n' + listy[i].url)\n",
    "        \n",
    "# creates a file\n",
    "\n",
    "open('the briefly.txt', 'w').close()\n",
    "\n",
    "# writes to the text file and replaces the two usages of '•'\n",
    "# to open and close a link.\n",
    "\n",
    "with open('the briefly.txt', 'w') as f:\n",
    "    f.write('Pins Saved: ' + str(len(briefly)) + '\\n\\n')\n",
    "    f.write(weather)\n",
    "    for item in briefly:\n",
    "        if '•' in item:\n",
    "            f.write(item.split('\\n')[0].replace('•', '<a href=\"' + item.split('\\n')[1] + '\">', 1).replace('•', '</a>', 1) + '\\n\\n')\n",
    "        else:\n",
    "            f.write('<a href=\"' + item.split('\\n')[1] + '\">' + ' '.join(item.split('\\n')[0].split('(')[:1]).strip() + '</a>' + ' ' + item.split('\\n')[0][len(' '.join(item.split('\\n')[0].split('(')[:1])):] + '\\n\\n')"
   ]
  }
 ],
 "metadata": {
  "kernelspec": {
   "display_name": "Python 3",
   "language": "python",
   "name": "python3"
  },
  "language_info": {
   "codemirror_mode": {
    "name": "ipython",
    "version": 3
   },
   "file_extension": ".py",
   "mimetype": "text/x-python",
   "name": "python",
   "nbconvert_exporter": "python",
   "pygments_lexer": "ipython3",
   "version": "3.7.3"
  }
 },
 "nbformat": 4,
 "nbformat_minor": 2
}
